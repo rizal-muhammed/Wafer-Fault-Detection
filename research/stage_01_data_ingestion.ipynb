{
 "cells": [
  {
   "cell_type": "code",
   "execution_count": 1,
   "metadata": {},
   "outputs": [],
   "source": [
    "# entity"
   ]
  },
  {
   "cell_type": "code",
   "execution_count": 11,
   "metadata": {},
   "outputs": [
    {
     "data": {
      "text/plain": [
       "'/Users/admin/Documents/Projects/Wafer-Fault-Detection/research'"
      ]
     },
     "execution_count": 11,
     "metadata": {},
     "output_type": "execute_result"
    }
   ],
   "source": [
    "import os\n",
    "os.getcwd()"
   ]
  },
  {
   "cell_type": "code",
   "execution_count": 12,
   "metadata": {},
   "outputs": [],
   "source": [
    "os.chdir(\"../\")"
   ]
  },
  {
   "cell_type": "code",
   "execution_count": 13,
   "metadata": {},
   "outputs": [
    {
     "data": {
      "text/plain": [
       "'/Users/admin/Documents/Projects/Wafer-Fault-Detection'"
      ]
     },
     "execution_count": 13,
     "metadata": {},
     "output_type": "execute_result"
    }
   ],
   "source": [
    "os.getcwd()"
   ]
  },
  {
   "cell_type": "code",
   "execution_count": 2,
   "metadata": {},
   "outputs": [],
   "source": [
    "from dataclasses import dataclass\n",
    "from pathlib import Path\n",
    "\n",
    "\n",
    "@dataclass(frozen=True)\n",
    "class DataIngestionConfig:\n",
    "    root_dir: Path\n",
    "    source_URL: str\n",
    "    local_data_file: Path\n",
    "    unzip_dir: Path"
   ]
  },
  {
   "cell_type": "code",
   "execution_count": 3,
   "metadata": {},
   "outputs": [],
   "source": [
    "from src.wafer_fault_detection import constants"
   ]
  },
  {
   "cell_type": "code",
   "execution_count": 4,
   "metadata": {},
   "outputs": [
    {
     "data": {
      "text/plain": [
       "PosixPath('config/config.yaml')"
      ]
     },
     "execution_count": 4,
     "metadata": {},
     "output_type": "execute_result"
    }
   ],
   "source": [
    "constants.CONFIG_FILE_PATH"
   ]
  },
  {
   "cell_type": "code",
   "execution_count": 5,
   "metadata": {},
   "outputs": [
    {
     "data": {
      "text/plain": [
       "PosixPath('params.yaml')"
      ]
     },
     "execution_count": 5,
     "metadata": {},
     "output_type": "execute_result"
    }
   ],
   "source": [
    "constants.PARAMS_FILE_PATH"
   ]
  },
  {
   "cell_type": "code",
   "execution_count": 6,
   "metadata": {},
   "outputs": [],
   "source": [
    "from wafer_fault_detection.utils import read_yaml, create_directories"
   ]
  },
  {
   "cell_type": "code",
   "execution_count": 21,
   "metadata": {},
   "outputs": [],
   "source": [
    "class ConfigurationManager:\n",
    "    def __init__(\n",
    "        self, \n",
    "        config_filepath = constants.CONFIG_FILE_PATH,\n",
    "        params_filepath = constants.PARAMS_FILE_PATH,):\n",
    "        \n",
    "        self.config = read_yaml(config_filepath)\n",
    "        self.params = read_yaml(params_filepath)\n",
    "\n",
    "        create_directories([self.config.artifacts_root])\n",
    "    \n",
    "    def get_data_ingestion_config(self) -> DataIngestionConfig:\n",
    "        config = self.config.data_ingestion\n",
    "\n",
    "        create_directories([config.root_dir])\n",
    "\n",
    "        data_ingestion_config = DataIngestionConfig(\n",
    "            root_dir = config.root_dir,\n",
    "            source_URL = config.source_URL,\n",
    "            local_data_file = config.local_data_file,\n",
    "            unzip_dir = config.unzip_dir\n",
    "        )\n",
    "\n",
    "        return data_ingestion_config"
   ]
  },
  {
   "cell_type": "code",
   "execution_count": 22,
   "metadata": {},
   "outputs": [
    {
     "name": "stdout",
     "output_type": "stream",
     "text": [
      "[2023-11-15 20:36:04,823: INFO: common: yaml file: config/config.yaml loaded successfully]\n",
      "[2023-11-15 20:36:04,831: INFO: common: yaml file: params.yaml loaded successfully]\n",
      "[2023-11-15 20:36:04,839: INFO: common: created directory at: artifacts]\n",
      "[2023-11-15 20:36:04,841: INFO: common: created directory at: artifacts/data_ingestion]\n",
      "DataIngestionConfig(root_dir='artifacts/data_ingestion', source_URL='https://github.com/rizal-muhammed/datasets/raw/main/wafer-fault-data.zip', local_data_file='artifacts/data_ingestion/wafer-fault-data.zip', unzip_dir='artifacts/data_ingestion')\n"
     ]
    }
   ],
   "source": [
    "c = ConfigurationManager()\n",
    "config = c.get_data_ingestion_config()\n",
    "print(config)"
   ]
  },
  {
   "cell_type": "code",
   "execution_count": 37,
   "metadata": {},
   "outputs": [],
   "source": [
    "import os\n",
    "import requests\n",
    "import zipfile\n",
    "from urllib.parse import urlparse\n",
    "\n",
    "class DataIngestion:\n",
    "    def __init__(self, config: DataIngestionConfig):\n",
    "        self.config = config\n",
    "    \n",
    "    # def download_file(self):\n",
    "    #     logger.info(\"Trying to download file...\")\n",
    "    #     if not os.path.exists(self.config.local_data_file):\n",
    "    #         logger.info(\"Download started...\")\n",
    "    #         filename, headers = request.urlretrieve(\n",
    "    #             url=self.config.source_URL,\n",
    "    #             filename=self.config.local_data_file\n",
    "    #         )\n",
    "    #         logger.info(f\"{filename} download! with following info: \\n{headers}\")\n",
    "    #     else:\n",
    "    #         logger.info(f\"File already exists of size: {get_size(Path(self.config.local_data_file))}\")       \n",
    "    \n",
    "    def download_file(self):\n",
    "        logger.info(\"Trying to download file...\")\n",
    "        if not os.path.exists(self.config.local_data_file):\n",
    "            url = self.config.source_URL\n",
    "            response = requests.get(url)\n",
    "\n",
    "            if response.status_code == 200:\n",
    "            # Extract the file name from the URL\n",
    "                url_path = urlparse(url).path\n",
    "                file_name = url_path.split(\"/\")[-1]\n",
    "\n",
    "                with open(file_name, \"wb\") as file:\n",
    "                    file.write(response.content)\n",
    "\n",
    "            print(f\"Downloaded {file_name} successfully\")\n",
    "\n",
    "            # Unzip the downloaded file\n",
    "            with zipfile.ZipFile(file_name, \"r\") as zip_ref:\n",
    "                zip_ref.extractall(self.config.unzip_dir)\n",
    "            \n",
    "            print(f\"Unzipped {file_name} successfully to 'extracted_folder'\")\n",
    "\n",
    "            os.remove(file_name)\n",
    "                \n",
    "        else:\n",
    "            print(f\"Failed to download. Status code: {response.status_code}\")"
   ]
  },
  {
   "cell_type": "code",
   "execution_count": 38,
   "metadata": {},
   "outputs": [],
   "source": [
    "d = DataIngestion(config)"
   ]
  },
  {
   "cell_type": "code",
   "execution_count": 39,
   "metadata": {},
   "outputs": [
    {
     "name": "stdout",
     "output_type": "stream",
     "text": [
      "Downloaded wafer-fault-data.zip successfully\n",
      "Unzipped wafer-fault-data.zip successfully to 'extracted_folder'\n"
     ]
    }
   ],
   "source": [
    "d.download_file()"
   ]
  },
  {
   "cell_type": "code",
   "execution_count": null,
   "metadata": {},
   "outputs": [],
   "source": []
  }
 ],
 "metadata": {
  "kernelspec": {
   "display_name": "Python 3 (ipykernel)",
   "language": "python",
   "name": "python3"
  },
  "language_info": {
   "codemirror_mode": {
    "name": "ipython",
    "version": 3
   },
   "file_extension": ".py",
   "mimetype": "text/x-python",
   "name": "python",
   "nbconvert_exporter": "python",
   "pygments_lexer": "ipython3",
   "version": "3.9.18"
  }
 },
 "nbformat": 4,
 "nbformat_minor": 2
}
